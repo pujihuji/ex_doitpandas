{
 "cells": [
  {
   "cell_type": "markdown",
   "metadata": {},
   "source": [
    "# 1개의 열만 고정하고 나머지 열을 행으로 바꾸기"
   ]
  },
  {
   "cell_type": "code",
   "execution_count": 14,
   "metadata": {},
   "outputs": [
    {
     "name": "stdout",
     "output_type": "stream",
     "text": [
      "             religion  <$10k  $10-20k  $20-30k  $30-40k  $40-50k  $50-75k  \\\n",
      "0            Agnostic     27       34       60       81       76      137   \n",
      "1             Atheist     12       27       37       52       35       70   \n",
      "2            Buddhist     27       21       30       34       33       58   \n",
      "3            Catholic    418      617      732      670      638     1116   \n",
      "4  Don’t know/refused     15       14       15       11       10       35   \n",
      "\n",
      "   $75-100k  $100-150k  >150k  Don't know/refused  \n",
      "0       122        109     84                  96  \n",
      "1        73         59     74                  76  \n",
      "2        62         39     53                  54  \n",
      "3       949        792    633                1489  \n",
      "4        21         17     18                 116  \n",
      "                   religion  <$10k  $10-20k  $20-30k  $30-40k  $40-50k\n",
      "0                  Agnostic     27       34       60       81       76\n",
      "1                   Atheist     12       27       37       52       35\n",
      "2                  Buddhist     27       21       30       34       33\n",
      "3                  Catholic    418      617      732      670      638\n",
      "4        Don’t know/refused     15       14       15       11       10\n",
      "5          Evangelical Prot    575      869     1064      982      881\n",
      "6                     Hindu      1        9        7        9       11\n",
      "7   Historically Black Prot    228      244      236      238      197\n",
      "8         Jehovah's Witness     20       27       24       24       21\n",
      "9                    Jewish     19       19       25       25       30\n",
      "10            Mainline Prot    289      495      619      655      651\n",
      "11                   Mormon     29       40       48       51       56\n",
      "12                   Muslim      6        7        9       10        9\n",
      "13                 Orthodox     13       17       23       32       32\n",
      "14          Other Christian      9        7       11       13       13\n",
      "15             Other Faiths     20       33       40       46       49\n",
      "16    Other World Religions      5        2        3        4        2\n",
      "17             Unaffiliated    217      299      374      365      341\n",
      "___\n",
      "             religion variable  value\n",
      "0            Agnostic    <$10k     27\n",
      "1             Atheist    <$10k     12\n",
      "2            Buddhist    <$10k     27\n",
      "3            Catholic    <$10k    418\n",
      "4  Don’t know/refused    <$10k     15\n",
      "___\n",
      "                   religion   income  count\n",
      "0                  Agnostic    <$10k     27\n",
      "1                   Atheist    <$10k     12\n",
      "2                  Buddhist    <$10k     27\n",
      "3                  Catholic    <$10k    418\n",
      "4        Don’t know/refused    <$10k     15\n",
      "5          Evangelical Prot    <$10k    575\n",
      "6                     Hindu    <$10k      1\n",
      "7   Historically Black Prot    <$10k    228\n",
      "8         Jehovah's Witness    <$10k     20\n",
      "9                    Jewish    <$10k     19\n",
      "10            Mainline Prot    <$10k    289\n",
      "11                   Mormon    <$10k     29\n",
      "12                   Muslim    <$10k      6\n",
      "13                 Orthodox    <$10k     13\n",
      "14          Other Christian    <$10k      9\n",
      "15             Other Faiths    <$10k     20\n",
      "16    Other World Religions    <$10k      5\n",
      "17             Unaffiliated    <$10k    217\n",
      "18                 Agnostic  $10-20k     34\n",
      "19                  Atheist  $10-20k     27\n"
     ]
    }
   ],
   "source": [
    "import pandas as pd\n",
    "pew=pd.read_csv('../data/pew.csv')\n",
    "print(pew.head())\n",
    "print(pew.iloc[:,0:6])\n",
    "print('___')\n",
    "#id_vars='위치를 그대로 유지할 열' ,  value_vars=행으로 위치변경(~피봇팅)할 '열 이름' 지정, var_name=value_vars로 위치 변경한 열 '이름지정', \n",
    "#value_name=var_name으로 위치 변경한 열의 '데이터'를 저장한 열의 '이름지정'\n",
    "pew_long=pd.melt(pew,id_vars='religion')\n",
    "print(pew_long.head())\n",
    "#소득정보는 전부 variable처리,\"피벗\"\n",
    "print('___')\n",
    "pew_long=pd.melt(pew,id_vars='religion',var_name='income',value_name='count')\n",
    "print(pew_long.head(n=20))"
   ]
  },
  {
   "cell_type": "markdown",
   "metadata": {},
   "source": [
    "# 2개 이상의 열을 고정하고 나머지 열을 행으로 바꾸기"
   ]
  },
  {
   "cell_type": "code",
   "execution_count": 12,
   "metadata": {},
   "outputs": [
    {
     "name": "stdout",
     "output_type": "stream",
     "text": [
      "   year        artist                    track  time date.entered  wk1   wk2  \\\n",
      "0  2000         2 Pac  Baby Don't Cry (Keep...  4:22   2000-02-26   87  82.0   \n",
      "1  2000       2Ge+her  The Hardest Part Of ...  3:15   2000-09-02   91  87.0   \n",
      "2  2000  3 Doors Down               Kryptonite  3:53   2000-04-08   81  70.0   \n",
      "3  2000  3 Doors Down                    Loser  4:24   2000-10-21   76  76.0   \n",
      "4  2000      504 Boyz            Wobble Wobble  3:35   2000-04-15   57  34.0   \n",
      "\n",
      "    wk3   wk4   wk5   wk6   wk7   wk8   wk9  wk10  wk11  \n",
      "0  72.0  77.0  87.0  94.0  99.0   NaN   NaN   NaN   NaN  \n",
      "1  92.0   NaN   NaN   NaN   NaN   NaN   NaN   NaN   NaN  \n",
      "2  68.0  67.0  66.0  57.0  54.0  53.0  51.0  51.0  51.0  \n",
      "3  72.0  69.0  67.0  65.0  55.0  59.0  62.0  61.0  61.0  \n",
      "4  25.0  17.0  17.0  31.0  36.0  49.0  53.0  57.0  64.0  \n",
      "   year        artist                    track  time date.entered week  rating\n",
      "0  2000         2 Pac  Baby Don't Cry (Keep...  4:22   2000-02-26  wk1    87.0\n",
      "1  2000       2Ge+her  The Hardest Part Of ...  3:15   2000-09-02  wk1    91.0\n",
      "2  2000  3 Doors Down               Kryptonite  3:53   2000-04-08  wk1    81.0\n",
      "3  2000  3 Doors Down                    Loser  4:24   2000-10-21  wk1    76.0\n",
      "4  2000      504 Boyz            Wobble Wobble  3:35   2000-04-15  wk1    57.0\n"
     ]
    }
   ],
   "source": [
    "billboard=pd.read_csv('../data/billboard.csv')\n",
    "print(billboard.iloc[0:5,0:16])\n",
    "billboard_long=pd.melt(billboard,id_vars=['year','artist','track','time','date.entered'],var_name='week',value_name='rating')\n",
    "print(billboard_long.head())"
   ]
  },
  {
   "cell_type": "markdown",
   "metadata": {
    "scrolled": true
   },
   "source": [
    "# ebola 데이터 집합 살펴보기"
   ]
  },
  {
   "cell_type": "code",
   "execution_count": 24,
   "metadata": {
    "scrolled": true
   },
   "outputs": [
    {
     "name": "stdout",
     "output_type": "stream",
     "text": [
      "         Date  Day  Cases_Guinea  Cases_Liberia  Cases_SierraLeone  \\\n",
      "0    1/5/2015  289        2776.0            NaN            10030.0   \n",
      "1    1/4/2015  288        2775.0            NaN             9780.0   \n",
      "2    1/3/2015  287        2769.0         8166.0             9722.0   \n",
      "3    1/2/2015  286           NaN         8157.0                NaN   \n",
      "4  12/31/2014  284        2730.0         8115.0             9633.0   \n",
      "\n",
      "   Cases_Nigeria  Cases_Senegal  Cases_UnitedStates  Cases_Spain  Cases_Mali  \\\n",
      "0            NaN            NaN                 NaN          NaN         NaN   \n",
      "1            NaN            NaN                 NaN          NaN         NaN   \n",
      "2            NaN            NaN                 NaN          NaN         NaN   \n",
      "3            NaN            NaN                 NaN          NaN         NaN   \n",
      "4            NaN            NaN                 NaN          NaN         NaN   \n",
      "\n",
      "   Deaths_Guinea  Deaths_Liberia  Deaths_SierraLeone  Deaths_Nigeria  \\\n",
      "0         1786.0             NaN              2977.0             NaN   \n",
      "1         1781.0             NaN              2943.0             NaN   \n",
      "2         1767.0          3496.0              2915.0             NaN   \n",
      "3            NaN          3496.0                 NaN             NaN   \n",
      "4         1739.0          3471.0              2827.0             NaN   \n",
      "\n",
      "   Deaths_Senegal  Deaths_UnitedStates  Deaths_Spain  Deaths_Mali  \n",
      "0             NaN                  NaN           NaN          NaN  \n",
      "1             NaN                  NaN           NaN          NaN  \n",
      "2             NaN                  NaN           NaN          NaN  \n",
      "3             NaN                  NaN           NaN          NaN  \n",
      "4             NaN                  NaN           NaN          NaN  \n",
      "Index(['Date', 'Day', 'Cases_Guinea', 'Cases_Liberia', 'Cases_SierraLeone',\n",
      "       'Cases_Nigeria', 'Cases_Senegal', 'Cases_UnitedStates', 'Cases_Spain',\n",
      "       'Cases_Mali', 'Deaths_Guinea', 'Deaths_Liberia', 'Deaths_SierraLeone',\n",
      "       'Deaths_Nigeria', 'Deaths_Senegal', 'Deaths_UnitedStates',\n",
      "       'Deaths_Spain', 'Deaths_Mali'],\n",
      "      dtype='object')\n",
      "       Date  Day      variable   value\n",
      "0  1/5/2015  289  Cases_Guinea  2776.0\n",
      "1  1/4/2015  288  Cases_Guinea  2775.0\n",
      "2  1/3/2015  287  Cases_Guinea  2769.0\n"
     ]
    }
   ],
   "source": [
    "ebola=pd.read_csv('../data/country_timeseries.csv')\n",
    "print(ebola.head(n=5))\n",
    "print(ebola.columns)\n",
    "ebola_long=pd.melt(ebola,id_vars=['Date','Day'])\n",
    "print(ebola_long.head(n=3))"
   ]
  },
  {
   "cell_type": "markdown",
   "metadata": {},
   "source": [
    "# 열 이름 나누고 데이터 프레임에 추가하기"
   ]
  },
  {
   "cell_type": "code",
   "execution_count": 23,
   "metadata": {},
   "outputs": [
    {
     "name": "stdout",
     "output_type": "stream",
     "text": [
      "0    [Cases, Guinea]\n",
      "1    [Cases, Guinea]\n",
      "2    [Cases, Guinea]\n",
      "3    [Cases, Guinea]\n",
      "4    [Cases, Guinea]\n",
      "Name: variable, dtype: object\n",
      "<class 'pandas.core.series.Series'>\n",
      "<class 'list'>\n",
      "0    Cases\n",
      "1    Cases\n",
      "2    Cases\n",
      "3    Cases\n",
      "4    Cases\n",
      "Name: variable, dtype: object\n",
      "1947    Deaths\n",
      "1948    Deaths\n",
      "1949    Deaths\n",
      "1950    Deaths\n",
      "1951    Deaths\n",
      "Name: variable, dtype: object\n",
      "0    Guinea\n",
      "1    Guinea\n",
      "2    Guinea\n",
      "3    Guinea\n",
      "4    Guinea\n",
      "Name: variable, dtype: object\n",
      "1947    Mali\n",
      "1948    Mali\n",
      "1949    Mali\n",
      "1950    Mali\n",
      "1951    Mali\n",
      "Name: variable, dtype: object\n",
      "         Date  Day      variable   value status country\n",
      "0    1/5/2015  289  Cases_Guinea  2776.0  Cases  Guinea\n",
      "1    1/4/2015  288  Cases_Guinea  2775.0  Cases  Guinea\n",
      "2    1/3/2015  287  Cases_Guinea  2769.0  Cases  Guinea\n",
      "3    1/2/2015  286  Cases_Guinea     NaN  Cases  Guinea\n",
      "4  12/31/2014  284  Cases_Guinea  2730.0  Cases  Guinea\n"
     ]
    }
   ],
   "source": [
    "variable_split=ebola_long.variable.str.split('_')\n",
    "print(variable_split[:5])\n",
    "print(type(variable_split))\n",
    "print(type(variable_split[0]))\n",
    "\n",
    "status_values=variable_split.str.get(0) #ex. Cases, Deaths\n",
    "country_values=variable_split.str.get(1) #ex. Guinea , Liberia...\n",
    "print(status_values[:5]) #앞에서 5개\n",
    "print(status_values[-5:]) #끝에서 5개\n",
    "print(country_values[:5])\n",
    "print(country_values[-5:])\n",
    "\n",
    "ebola_long['status']=status_values\n",
    "ebola_long['country']=country_values\n",
    "print(ebola_long.head())"
   ]
  },
  {
   "cell_type": "markdown",
   "metadata": {},
   "source": [
    "# concat 메서드를 응용하여 데이터프레임에 열 추가하기"
   ]
  },
  {
   "cell_type": "code",
   "execution_count": 26,
   "metadata": {},
   "outputs": [
    {
     "name": "stdout",
     "output_type": "stream",
     "text": [
      "         Date  Day      variable   value status2 country2\n",
      "0    1/5/2015  289  Cases_Guinea  2776.0   Cases   Guinea\n",
      "1    1/4/2015  288  Cases_Guinea  2775.0   Cases   Guinea\n",
      "2    1/3/2015  287  Cases_Guinea  2769.0   Cases   Guinea\n",
      "3    1/2/2015  286  Cases_Guinea     NaN   Cases   Guinea\n",
      "4  12/31/2014  284  Cases_Guinea  2730.0   Cases   Guinea\n"
     ]
    }
   ],
   "source": [
    "variable_split=ebola_long.variable.str.split('_',expand=True)\n",
    "variable_split.columns=['status2','country2']\n",
    "ebola_parsed=pd.concat([ebola_long,variable_split],axis=1)\n",
    "\n",
    "print(ebola_parsed.head())"
   ]
  },
  {
   "cell_type": "markdown",
   "metadata": {},
   "source": [
    "# 기상 데이터의 여러 열을 하나로 정리하기"
   ]
  },
  {
   "cell_type": "code",
   "execution_count": 32,
   "metadata": {},
   "outputs": [
    {
     "name": "stdout",
     "output_type": "stream",
     "text": [
      "        id  year  month element  d1    d2    d3  d4    d5  d6  ...  d22   d23  \\\n",
      "0  MX17004  2010      1    tmax NaN   NaN   NaN NaN   NaN NaN  ...  NaN   NaN   \n",
      "1  MX17004  2010      1    tmin NaN   NaN   NaN NaN   NaN NaN  ...  NaN   NaN   \n",
      "2  MX17004  2010      2    tmax NaN  27.3  24.1 NaN   NaN NaN  ...  NaN  29.9   \n",
      "3  MX17004  2010      2    tmin NaN  14.4  14.4 NaN   NaN NaN  ...  NaN  10.7   \n",
      "4  MX17004  2010      3    tmax NaN   NaN   NaN NaN  32.1 NaN  ...  NaN   NaN   \n",
      "\n",
      "   d24  d25  d26  d27  d28  d29   d30  d31  \n",
      "0  NaN  NaN  NaN  NaN  NaN  NaN  27.8  NaN  \n",
      "1  NaN  NaN  NaN  NaN  NaN  NaN  14.5  NaN  \n",
      "2  NaN  NaN  NaN  NaN  NaN  NaN   NaN  NaN  \n",
      "3  NaN  NaN  NaN  NaN  NaN  NaN   NaN  NaN  \n",
      "4  NaN  NaN  NaN  NaN  NaN  NaN   NaN  NaN  \n",
      "\n",
      "[5 rows x 35 columns]\n",
      "        id  year  month element day  temp\n",
      "0  MX17004  2010      1    tmax  d1   NaN\n",
      "1  MX17004  2010      1    tmin  d1   NaN\n",
      "2  MX17004  2010      2    tmax  d1   NaN\n",
      "3  MX17004  2010      2    tmin  d1   NaN\n",
      "element                 tmax  tmin\n",
      "id      year month day            \n",
      "MX17004 2010 1     d30  27.8  14.5\n",
      "             2     d11  29.7  13.4\n",
      "                   d2   27.3  14.4\n",
      "                   d23  29.9  10.7\n",
      "                   d3   24.1  14.4\n",
      "             3     d10  34.5  16.8\n",
      "                   d16  31.1  17.6\n",
      "                   d5   32.1  14.2\n",
      "             4     d27  36.3  16.7\n",
      "             5     d27  33.2  18.2\n",
      "             6     d17  28.0  17.5\n",
      "                   d29  30.1  18.0\n",
      "             7     d3   28.6  17.5\n",
      "                   d14  29.9  16.5\n",
      "             8     d23  26.4  15.0\n",
      "                   d5   29.6  15.8\n",
      "                   d29  28.0  15.3\n",
      "                   d13  29.8  16.5\n",
      "                   d25  29.7  15.6\n",
      "                   d31  25.4  15.4\n",
      "                   d8   29.0  17.3\n",
      "             10    d5   27.0  14.0\n",
      "                   d14  29.5  13.0\n",
      "                   d15  28.7  10.5\n",
      "                   d28  31.2  15.0\n",
      "                   d7   28.1  12.9\n",
      "             11    d2   31.3  16.3\n",
      "                   d5   26.3   7.9\n",
      "                   d27  27.7  14.2\n",
      "                   d26  28.1  12.1\n",
      "                   d4   27.2  12.0\n",
      "             12    d1   29.9  13.8\n",
      "                   d6   27.8  10.5\n",
      "________\n",
      "element       id  year  month  day  tmax  tmin\n",
      "0        MX17004  2010      1  d30  27.8  14.5\n",
      "1        MX17004  2010      2  d11  29.7  13.4\n",
      "2        MX17004  2010      2   d2  27.3  14.4\n",
      "3        MX17004  2010      2  d23  29.9  10.7\n",
      "4        MX17004  2010      2   d3  24.1  14.4\n"
     ]
    }
   ],
   "source": [
    "weather=pd.read_csv('../data/weather.csv')\n",
    "print(weather.iloc[:5,:])\n",
    "weather_melt=pd.melt(weather,id_vars=['id','year','month','element'],var_name='day',value_name='temp')\n",
    "print(weather_melt.head(n=4))\n",
    "#pivot_table:피봇팅한걸 다시 행과 열의 위치를 바꿔정리\n",
    "weather_tidy=weather_melt.pivot_table(index=['id','year','month','day'],columns='element',values='temp',dropna=True)\n",
    "print(weather_tidy)\n",
    "print('________')\n",
    "#flat하게 만들기위해 (열이름 정돈,평탄화)\n",
    "weather_flat=weather_tidy.reset_index()\n",
    "print(weather_flat.head())"
   ]
  },
  {
   "cell_type": "markdown",
   "metadata": {},
   "source": [
    "# 빌보드 차트의 중복 데이터 처리하기"
   ]
  },
  {
   "cell_type": "code",
   "execution_count": 47,
   "metadata": {},
   "outputs": [
    {
     "name": "stdout",
     "output_type": "stream",
     "text": [
      "(24092, 7)\n",
      "       year            artist                    track  time date.entered  \\\n",
      "0      2000             2 Pac  Baby Don't Cry (Keep...  4:22   2000-02-26   \n",
      "1      2000           2Ge+her  The Hardest Part Of ...  3:15   2000-09-02   \n",
      "2      2000      3 Doors Down               Kryptonite  3:53   2000-04-08   \n",
      "3      2000      3 Doors Down                    Loser  4:24   2000-10-21   \n",
      "4      2000          504 Boyz            Wobble Wobble  3:35   2000-04-15   \n",
      "...     ...               ...                      ...   ...          ...   \n",
      "24087  2000       Yankee Grey     Another Nine Minutes  3:10   2000-04-29   \n",
      "24088  2000  Yearwood, Trisha          Real Live Woman  3:55   2000-04-01   \n",
      "24089  2000   Ying Yang Twins  Whistle While You Tw...  4:19   2000-03-18   \n",
      "24090  2000     Zombie Nation            Kernkraft 400  3:30   2000-09-02   \n",
      "24091  2000   matchbox twenty                     Bent  4:12   2000-04-29   \n",
      "\n",
      "       week  rating  \n",
      "0       wk1    87.0  \n",
      "1       wk1    91.0  \n",
      "2       wk1    81.0  \n",
      "3       wk1    76.0  \n",
      "4       wk1    57.0  \n",
      "...     ...     ...  \n",
      "24087  wk76     NaN  \n",
      "24088  wk76     NaN  \n",
      "24089  wk76     NaN  \n",
      "24090  wk76     NaN  \n",
      "24091  wk76     NaN  \n",
      "\n",
      "[24092 rows x 7 columns]\n",
      "      year        artist  track  time date.entered week  rating\n",
      "3     2000  3 Doors Down  Loser  4:24   2000-10-21  wk1    76.0\n",
      "320   2000  3 Doors Down  Loser  4:24   2000-10-21  wk2    76.0\n",
      "637   2000  3 Doors Down  Loser  4:24   2000-10-21  wk3    72.0\n",
      "954   2000  3 Doors Down  Loser  4:24   2000-10-21  wk4    69.0\n",
      "1271  2000  3 Doors Down  Loser  4:24   2000-10-21  wk5    67.0\n",
      "(24092, 4)\n",
      "(317, 4)\n",
      "   year        artist                    track  time  id\n",
      "0  2000         2 Pac  Baby Don't Cry (Keep...  4:22   0\n",
      "1  2000       2Ge+her  The Hardest Part Of ...  3:15   1\n",
      "2  2000  3 Doors Down               Kryptonite  3:53   2\n",
      "3  2000  3 Doors Down                    Loser  4:24   3\n",
      "4  2000      504 Boyz            Wobble Wobble  3:35   4\n",
      "_____________\n",
      "(24092, 8)\n",
      "   year        artist                    track  time date.entered week  \\\n",
      "0  2000         2 Pac  Baby Don't Cry (Keep...  4:22   2000-02-26  wk1   \n",
      "1  2000       2Ge+her  The Hardest Part Of ...  3:15   2000-09-02  wk1   \n",
      "2  2000  3 Doors Down               Kryptonite  3:53   2000-04-08  wk1   \n",
      "3  2000  3 Doors Down                    Loser  4:24   2000-10-21  wk1   \n",
      "4  2000      504 Boyz            Wobble Wobble  3:35   2000-04-15  wk1   \n",
      "\n",
      "   rating  id  \n",
      "0    87.0   0  \n",
      "1    91.0   1  \n",
      "2    81.0   2  \n",
      "3    76.0   3  \n",
      "4    57.0   4  \n",
      "_____________\n",
      "       year artist                    track  time date.entered  week  rating  \\\n",
      "10144  2000  2 Pac  Baby Don't Cry (Keep...  4:22   2000-02-26  wk33     NaN   \n",
      "14265  2000  2 Pac  Baby Don't Cry (Keep...  4:22   2000-02-26  wk46     NaN   \n",
      "9827   2000  2 Pac  Baby Don't Cry (Keep...  4:22   2000-02-26  wk32     NaN   \n",
      "17752  2000  2 Pac  Baby Don't Cry (Keep...  4:22   2000-02-26  wk57     NaN   \n",
      "10778  2000  2 Pac  Baby Don't Cry (Keep...  4:22   2000-02-26  wk35     NaN   \n",
      "\n",
      "       id  \n",
      "10144   0  \n",
      "14265   0  \n",
      "9827    0  \n",
      "17752   0  \n",
      "10778   0  \n"
     ]
    },
    {
     "name": "stderr",
     "output_type": "stream",
     "text": [
      "C:\\Users\\user\\AppData\\Local\\Temp\\ipykernel_12964\\1033624493.py:16: SettingWithCopyWarning: \n",
      "A value is trying to be set on a copy of a slice from a DataFrame.\n",
      "Try using .loc[row_indexer,col_indexer] = value instead\n",
      "\n",
      "See the caveats in the documentation: https://pandas.pydata.org/pandas-docs/stable/user_guide/indexing.html#returning-a-view-versus-a-copy\n",
      "  bill_songs2['id']=range(len(bill_songs2))\n"
     ]
    }
   ],
   "source": [
    "billboard=pd.read_csv('../data/billboard.csv')\n",
    "billboard_long=pd.melt(billboard,id_vars=['year','artist','track','time','date.entered'],var_name='week',value_name='rating')\n",
    "print(billboard_long.shape)\n",
    "print(billboard_long)\n",
    "\n",
    "print(billboard_long[billboard_long.track=='Loser'].head())\n",
    "\n",
    "bill_songs=billboard_long[['year','artist','track','time']]\n",
    "print(bill_songs.shape)\n",
    "#중복된 데이터 제거 (여기선 year,artist,track,time전부 겹치는경우!)\n",
    "bill_songs2=bill_songs.drop_duplicates()\n",
    "print(bill_songs2.shape)\n",
    "\n",
    "#중복되지않은 각 고유 데이터에 번호(id)부여 \n",
    "#이때 bill_songs2는 bill_songs를 참조하여 슬라이싱 한것(참조의 참조)이므로, 새로 복제하여 슬라이싱하는게 참조오류 방지 가능!!!!!!\n",
    "bill_songs2['id']=range(len(bill_songs2))\n",
    "print(bill_songs2.head())\n",
    "print('_____________')\n",
    "#merge로 다시 원본과 결합 ->고유 id 별로 묶어보기가능\n",
    "bill_ratings=billboard_long.merge(bill_songs2,on=['year','artist','track','time'])\n",
    "print(bill_ratings.shape)\n",
    "print(bill_ratings.head())\n",
    "print('_____________')\n",
    "#정렬\n",
    "bill_ratings_sorted=bill_ratings.sort_values(by='id')\n",
    "print(bill_ratings_sorted.head())"
   ]
  },
  {
   "cell_type": "markdown",
   "metadata": {},
   "source": [
    "# 뉴욕 택시 데이터 준비"
   ]
  },
  {
   "cell_type": "code",
   "execution_count": 57,
   "metadata": {},
   "outputs": [
    {
     "name": "stdout",
     "output_type": "stream",
     "text": [
      "다운로드 시도: https://s3.amazonaws.com/nyc-tlc/trip+data/fhv_tripdata_2015-01.csv\n",
      "오류 발생: 403 Client Error: Forbidden for url: https://s3.amazonaws.com/nyc-tlc/trip+data/fhv_tripdata_2015-01.csv\n",
      "URL을 브라우저에서 직접 확인해 보세요.\n",
      "다운로드 시도: https://s3.amazonaws.com/nyc-tlc/trip+data/fhv_tripdata_2015-02.csv\n",
      "오류 발생: 403 Client Error: Forbidden for url: https://s3.amazonaws.com/nyc-tlc/trip+data/fhv_tripdata_2015-02.csv\n",
      "URL을 브라우저에서 직접 확인해 보세요.\n",
      "다운로드 시도: https://s3.amazonaws.com/nyc-tlc/trip+data/fhv_tripdata_2015-03.csv\n",
      "오류 발생: 403 Client Error: Forbidden for url: https://s3.amazonaws.com/nyc-tlc/trip+data/fhv_tripdata_2015-03.csv\n",
      "URL을 브라우저에서 직접 확인해 보세요.\n",
      "다운로드 시도: https://s3.amazonaws.com/nyc-tlc/trip+data/fhv_tripdata_2015-04.csv\n",
      "오류 발생: 403 Client Error: Forbidden for url: https://s3.amazonaws.com/nyc-tlc/trip+data/fhv_tripdata_2015-04.csv\n",
      "URL을 브라우저에서 직접 확인해 보세요.\n",
      "다운로드 시도: https://s3.amazonaws.com/nyc-tlc/trip+data/fhv_tripdata_2015-05.csv\n",
      "오류 발생: 403 Client Error: Forbidden for url: https://s3.amazonaws.com/nyc-tlc/trip+data/fhv_tripdata_2015-05.csv\n",
      "URL을 브라우저에서 직접 확인해 보세요.\n"
     ]
    }
   ],
   "source": [
    "\n",
    "import os\n",
    "import requests\n",
    "\n",
    "# User-Agent 헤더를 포함한 요청 헤더를 정의합니다.\n",
    "headers = {\n",
    "    'User-Agent': 'Mozilla/5.0 (Windows NT 10.0; Win64; x64) AppleWebKit/537.36 (KHTML, like Gecko) Chrome/91.0.4472.124 Safari/537.36'\n",
    "}\n",
    "\n",
    "with open('../data/raw_data_urls.txt', 'r') as data_urls:\n",
    "    for line_num, url in enumerate(data_urls):\n",
    "        if line_num == 5:\n",
    "            break\n",
    "        \n",
    "        clean_url = url.strip()\n",
    "        fn = clean_url.split('/')[-1]\n",
    "        fp = os.path.join('../data', fn)\n",
    "        \n",
    "        print(f\"다운로드 시도: {clean_url}\")\n",
    "        \n",
    "        try:\n",
    "            # requests.get()으로 요청을 보내고, 헤더를 추가합니다.\n",
    "            response = requests.get(clean_url, headers=headers)\n",
    "            \n",
    "            # 응답 상태 코드가 200(성공)인지 확인합니다.\n",
    "            response.raise_for_status()\n",
    "            \n",
    "            # 응답 내용(content)을 파일에 씁니다.\n",
    "            with open(fp, 'wb') as f:\n",
    "                f.write(response.content)\n",
    "            print(f\"성공적으로 저장됨: {fp}\")\n",
    "            \n",
    "        except requests.exceptions.RequestException as e:\n",
    "            print(f\"오류 발생: {e}\")\n",
    "            print(\"URL을 브라우저에서 직접 확인해 보세요.\")"
   ]
  },
  {
   "cell_type": "markdown",
   "metadata": {},
   "source": [
    "# 반복문으로 데이터 준비하기"
   ]
  },
  {
   "cell_type": "code",
   "execution_count": null,
   "metadata": {},
   "outputs": [],
   "source": []
  }
 ],
 "metadata": {
  "kernelspec": {
   "display_name": "Python [conda env:base] *",
   "language": "python",
   "name": "conda-base-py"
  },
  "language_info": {
   "codemirror_mode": {
    "name": "ipython",
    "version": 3
   },
   "file_extension": ".py",
   "mimetype": "text/x-python",
   "name": "python",
   "nbconvert_exporter": "python",
   "pygments_lexer": "ipython3",
   "version": "3.13.5"
  }
 },
 "nbformat": 4,
 "nbformat_minor": 4
}
