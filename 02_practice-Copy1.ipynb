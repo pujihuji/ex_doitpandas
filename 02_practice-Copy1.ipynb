{
 "cells": [
  {
   "cell_type": "markdown",
   "metadata": {},
   "source": [
    "# 갭마인더 데이터 집합 불러오기"
   ]
  },
  {
   "cell_type": "code",
   "execution_count": 4,
   "metadata": {},
   "outputs": [],
   "source": [
    "import pandas as pd\n",
    "df=pd.read_csv('../data/gapminder.tsv', sep='\\t')"
   ]
  },
  {
   "cell_type": "markdown",
   "metadata": {},
   "source": [
    "# 불러온 데이터 집합 살펴보기\n",
    "## pandas 와 python의 자료형 (좌:pandas, 우:python)\n",
    "### object=string=문자열 int(float)64=int=정수(소수점포함숫자) datetime64=datetime=표준라이브러리datetime자료형"
   ]
  },
  {
   "cell_type": "code",
   "execution_count": 13,
   "metadata": {},
   "outputs": [
    {
     "name": "stdout",
     "output_type": "stream",
     "text": [
      "       country continent  year  lifeExp       pop   gdpPercap\n",
      "0  Afghanistan      Asia  1952   28.801   8425333  779.445314\n",
      "1  Afghanistan      Asia  1957   30.332   9240934  820.853030\n",
      "2  Afghanistan      Asia  1962   31.997  10267083  853.100710\n",
      "3  Afghanistan      Asia  1967   34.020  11537966  836.197138\n",
      "4  Afghanistan      Asia  1972   36.088  13079460  739.981106\n",
      "\n",
      " 구분\n",
      "<class 'pandas.core.frame.DataFrame'>\n",
      "(1704, 6)\n",
      "Index(['country', 'continent', 'year', 'lifeExp', 'pop', 'gdpPercap'], dtype='object')\n",
      "country       object\n",
      "continent     object\n",
      "year           int64\n",
      "lifeExp      float64\n",
      "pop            int64\n",
      "gdpPercap    float64\n",
      "dtype: object\n",
      "<class 'pandas.core.frame.DataFrame'>\n",
      "RangeIndex: 1704 entries, 0 to 1703\n",
      "Data columns (total 6 columns):\n",
      " #   Column     Non-Null Count  Dtype  \n",
      "---  ------     --------------  -----  \n",
      " 0   country    1704 non-null   object \n",
      " 1   continent  1704 non-null   object \n",
      " 2   year       1704 non-null   int64  \n",
      " 3   lifeExp    1704 non-null   float64\n",
      " 4   pop        1704 non-null   int64  \n",
      " 5   gdpPercap  1704 non-null   float64\n",
      "dtypes: float64(2), int64(2), object(2)\n",
      "memory usage: 80.0+ KB\n",
      "None\n"
     ]
    }
   ],
   "source": [
    "print(df.head())\n",
    "print('\\n 구분')\n",
    "print(type(df))\n",
    "print(df.shape)\n",
    "print(df.columns)\n",
    "print(df.dtypes)\n",
    "print(df.info())\n"
   ]
  },
  {
   "cell_type": "markdown",
   "metadata": {},
   "source": [
    "# 열 단위로 데이터 추출하기\n",
    "# 여러 열을 출력할땐 대괄호 두개씩 주의"
   ]
  },
  {
   "cell_type": "code",
   "execution_count": 26,
   "metadata": {},
   "outputs": [
    {
     "name": "stdout",
     "output_type": "stream",
     "text": [
      "<class 'pandas.core.series.Series'>\n",
      "1699    Zimbabwe\n",
      "1700    Zimbabwe\n",
      "1701    Zimbabwe\n",
      "1702    Zimbabwe\n",
      "1703    Zimbabwe\n",
      "Name: country, dtype: object\n",
      "<class 'pandas.core.frame.DataFrame'>\n",
      "       country continent  year\n",
      "1699  Zimbabwe    Africa  1987\n",
      "1700  Zimbabwe    Africa  1992\n",
      "1701  Zimbabwe    Africa  1997\n",
      "1702  Zimbabwe    Africa  2002\n",
      "1703  Zimbabwe    Africa  2007\n",
      "       country continent  year  lifeExp       pop   gdpPercap\n",
      "1699  Zimbabwe    Africa  1987   62.351   9216418  706.157306\n",
      "1700  Zimbabwe    Africa  1992   60.377  10704340  693.420786\n",
      "1701  Zimbabwe    Africa  1997   46.809  11404948  792.449960\n",
      "1702  Zimbabwe    Africa  2002   39.989  11926563  672.038623\n",
      "1703  Zimbabwe    Africa  2007   43.487  12311143  469.709298\n"
     ]
    }
   ],
   "source": [
    "country_df=df['country']\n",
    "print(type(country_df))\n",
    "print(country_df.tail())\n",
    "subset_df=df[['country','continent','year']]\n",
    "print(type(subset_df))\n",
    "print(subset_df.tail())\n",
    "print(df.tail())"
   ]
  },
  {
   "cell_type": "markdown",
   "metadata": {},
   "source": [
    "# loc 속성으로 행 단위 데이터 추출하기\n",
    "## loc에서 -1은 끝자리 인덱싱이 아니다. 따라서 데이터프레임의 마지막행을 추출하려면 다른개념활용\n",
    "### file.shape 는 (행의수,열의수) 따라서 file.shape[0] 는 행의수 (데이터형식은 정수)"
   ]
  },
  {
   "cell_type": "code",
   "execution_count": 23,
   "metadata": {
    "scrolled": true
   },
   "outputs": [
    {
     "name": "stdout",
     "output_type": "stream",
     "text": [
      "country      Afghanistan\n",
      "continent           Asia\n",
      "year                1952\n",
      "lifeExp           28.801\n",
      "pop              8425333\n",
      "gdpPercap     779.445314\n",
      "Name: 0, dtype: object\n",
      "구분\n",
      "country      Afghanistan\n",
      "continent           Asia\n",
      "year                1952\n",
      "Name: 0, dtype: object\n",
      "구분\n",
      "1704\n",
      "구분\n",
      "country        Zimbabwe\n",
      "continent        Africa\n",
      "year               2007\n",
      "lifeExp          43.487\n",
      "pop            12311143\n",
      "gdpPercap    469.709298\n",
      "Name: 1703, dtype: object\n"
     ]
    }
   ],
   "source": [
    "print(df.loc[0])\n",
    "print('구분')\n",
    "print(subset_df.loc[0])\n",
    "print('구분')\n",
    "last_row=df.shape[0]\n",
    "last_rowindex=last_row - 1\n",
    "print(last_row)\n",
    "print('구분')\n",
    "print(df.loc[last_rowindex])\n",
    "\n"
   ]
  },
  {
   "cell_type": "markdown",
   "metadata": {},
   "source": [
    "# tail과 loc는 조금 달라요! 단일 행반환시 Tail자료반환은 데이터프레임"
   ]
  },
  {
   "cell_type": "code",
   "execution_count": 24,
   "metadata": {},
   "outputs": [
    {
     "name": "stdout",
     "output_type": "stream",
     "text": [
      "country        Zimbabwe\n",
      "continent        Africa\n",
      "year               2007\n",
      "lifeExp          43.487\n",
      "pop            12311143\n",
      "gdpPercap    469.709298\n",
      "Name: 1703, dtype: object\n",
      "\n",
      "\n",
      "       country continent  year  lifeExp       pop   gdpPercap\n",
      "1703  Zimbabwe    Africa  2007   43.487  12311143  469.709298\n"
     ]
    }
   ],
   "source": [
    "print(df.loc[last_rowindex])\n",
    "print('\\n')\n",
    "print(df.tail(n=1))"
   ]
  },
  {
   "cell_type": "markdown",
   "metadata": {},
   "source": [
    "# iloc 속성으로 행 단위 데이터 추출하기\n",
    "## iloc이란 기존 python 개념 , -1로도 인덱싱가능!"
   ]
  },
  {
   "cell_type": "code",
   "execution_count": 31,
   "metadata": {},
   "outputs": [
    {
     "name": "stdout",
     "output_type": "stream",
     "text": [
      "         country continent  year  lifeExp       pop    gdpPercap\n",
      "0    Afghanistan      Asia  1952   28.801   8425333   779.445314\n",
      "9    Afghanistan      Asia  1997   41.763  22227415   635.341351\n",
      "99    Bangladesh      Asia  1967   43.453  62821884   721.186086\n",
      "999     Mongolia      Asia  1967   51.253   1149500  1226.041130\n",
      "_____\n",
      "  continent\n",
      "1      Asia\n"
     ]
    }
   ],
   "source": [
    "print(df.iloc[[0, 9 ,99 ,999]])\n",
    "print('_____')\n",
    "print(df.iloc[[1],[1]])"
   ]
  },
  {
   "cell_type": "markdown",
   "metadata": {},
   "source": [
    "# 파이썬 슬라이싱 구문을 조합하여 원하는 데이터 추출하기\n",
    "## loc는 \"열\"지정값에 문자열리스트(열 선택안할시엔 숫자로가능), iloc는 \"열\"지정값에 정수리스트\n",
    "### [ 행(리스트형식도가능), 열(리스트형식도가능) ] or [[나열]] 등. 단, [[나열]]은 여러\"행\"을 추출"
   ]
  },
  {
   "cell_type": "code",
   "execution_count": 39,
   "metadata": {},
   "outputs": [
    {
     "name": "stdout",
     "output_type": "stream",
     "text": [
      "     year       pop\n",
      "1    1957   9240934\n",
      "11   2007  31889923\n",
      "9    1997  22227415\n",
      "99   1967  62821884\n",
      "999  1967   1149500\n",
      "     year  year       pop    gdpPercap\n",
      "1    1957  1957   9240934   820.853030\n",
      "11   2007  2007  31889923   974.580338\n",
      "9    1997  1997  22227415   635.341351\n",
      "99   1967  1967  62821884   721.186086\n",
      "999  1967  1967   1149500  1226.041130\n"
     ]
    }
   ],
   "source": [
    "subset2_df=df.loc[:,['year','pop']]\n",
    "print(subset2_df.loc[[1,11,9,99,999]])\n",
    "subset3_df=df.iloc[:,[2,2,4,-1]]\n",
    "print(subset3_df.iloc[[1,11,9,99,999]])"
   ]
  },
  {
   "cell_type": "markdown",
   "metadata": {},
   "source": [
    "# iloc 속성과 range 메서드로 원하는 데이터 추출하기"
   ]
  },
  {
   "cell_type": "code",
   "execution_count": 47,
   "metadata": {},
   "outputs": [
    {
     "name": "stdout",
     "output_type": "stream",
     "text": [
      "[0, 1, 2, 3, 4]\n",
      "<class 'list'>\n",
      "country      Afghanistan\n",
      "continent           Asia\n",
      "year                1952\n",
      "lifeExp           28.801\n",
      "pop              8425333\n",
      "Name: 0, dtype: object\n",
      "____+_____\n",
      "       country continent  year  lifeExp       pop\n",
      "0  Afghanistan      Asia  1952   28.801   8425333\n",
      "1  Afghanistan      Asia  1957   30.332   9240934\n",
      "2  Afghanistan      Asia  1962   31.997  10267083\n",
      "______#_______\n",
      "   year  lifeExp      pop\n",
      "0  1952   28.801  8425333\n"
     ]
    }
   ],
   "source": [
    "small_range=list(range(5))\n",
    "print(small_range)\n",
    "print(type(small_range))\n",
    "subsetlist_df=df.iloc[:,small_range]\n",
    "print(subsetlist_df.loc[0])\n",
    "print(\"____+_____\")\n",
    "print(subsetlist_df.loc[[0,1,2]])\n",
    "print(\"______#_______\")\n",
    "print(subsetlist_df.iloc[[0],[2,3,4]])"
   ]
  },
  {
   "cell_type": "markdown",
   "metadata": {},
   "source": [
    "# 열 지정값에 파이썬 슬라이싱을 사용하여 원하는 데이터 추출하기\n",
    "## 슬라이싱값 자체를 리스트 변수로 받아 활용"
   ]
  },
  {
   "cell_type": "code",
   "execution_count": 65,
   "metadata": {},
   "outputs": [
    {
     "name": "stdout",
     "output_type": "stream",
     "text": [
      "[0, 2, 4]\n",
      "       country  year       pop\n",
      "0  Afghanistan  1952   8425333\n",
      "1  Afghanistan  1957   9240934\n",
      "2  Afghanistan  1962  10267083\n",
      "3  Afghanistan  1967  11537966\n",
      "4  Afghanistan  1972  13079460\n",
      "5  Afghanistan  1977  14880372\n",
      "6  Afghanistan  1982  12881816\n",
      "       country  year       pop\n",
      "0  Afghanistan  1952   8425333\n",
      "1  Afghanistan  1957   9240934\n",
      "2  Afghanistan  1962  10267083\n",
      "3  Afghanistan  1967  11537966\n",
      "4  Afghanistan  1972  13079460\n",
      "5  Afghanistan  1977  14880372\n",
      "   year continent\n",
      "0  1952      Asia\n",
      "1  1957      Asia\n",
      "2  1962      Asia\n",
      "3  1967      Asia\n",
      "4  1972      Asia\n"
     ]
    }
   ],
   "source": [
    "slicing_range=list(range(0,6,2))\n",
    "print(slicing_range)\n",
    "sub1=df.iloc[:,slicing_range]\n",
    "print(sub1.head(n=7))\n",
    "sub2=df.iloc[:,list(range(0,6,2))]\n",
    "print(sub2.head(n=6))\n",
    "sub3=df.iloc[:,2:0:-1]\n",
    "print(sub3.head())"
   ]
  },
  {
   "cell_type": "markdown",
   "metadata": {},
   "source": [
    "# loc, iloc 자유자재로 사용하기"
   ]
  },
  {
   "cell_type": "code",
   "execution_count": 78,
   "metadata": {},
   "outputs": [
    {
     "name": "stdout",
     "output_type": "stream",
     "text": [
      "    continent  year       pop\n",
      "0        Asia  1952   8425333\n",
      "99       Asia  1967  62821884\n",
      "999      Asia  1967   1149500\n",
      "*****\n",
      "    continent  year  lifeExp\n",
      "0        Asia  1952   28.801\n",
      "99       Asia  1967   43.453\n",
      "999      Asia  1967   51.253\n",
      "*****\n",
      "         country continent  year  lifeExp       pop    gdpPercap\n",
      "0    Afghanistan      Asia  1952   28.801   8425333   779.445314\n",
      "99    Bangladesh      Asia  1967   43.453  62821884   721.186086\n",
      "999     Mongolia      Asia  1967   51.253   1149500  1226.041130\n",
      "*****\n",
      "    continent  year       pop\n",
      "0        Asia  1952   8425333\n",
      "99       Asia  1967  62821884\n",
      "999      Asia  1967   1149500\n",
      "     continent  year        pop\n",
      "0         Asia  1952    8425333\n",
      "100       Asia  1972   70759295\n",
      "200     Africa  1992    8878303\n",
      "300   Americas  1952   12350771\n",
      "400     Europe  1972    9862158\n",
      "500     Africa  1992    3668440\n",
      "600   Americas  1952    3146381\n",
      "700       Asia  1972  567000000\n",
      "800       Asia  1992  124329269\n",
      "900     Africa  1952    1019729\n",
      "1000      Asia  1972    1320500\n",
      "1100   Oceania  1992    3437674\n",
      "1200  Americas  1952    8025700\n",
      "1300    Africa  1972      76595\n",
      "1400    Africa  1992    6099799\n",
      "1500      Asia  1952    8550362\n",
      "1600    Europe  1972   56079000\n",
      "1700    Africa  1992   10704340\n",
      "range(1, 10, 2)\n"
     ]
    }
   ],
   "source": [
    "print(df.iloc[[0,99,999],[1,2,4]])\n",
    "print(\"*****\")\n",
    "print(df.iloc[[0,99,999],[1,2,3]])\n",
    "print(\"*****\")\n",
    "print(df.iloc[[0,99,999],:])\n",
    "print(\"*****\")\n",
    "print(df.loc[[0,99,999],['continent','year','pop']])\n",
    "print(df.loc[::100,['continent','year','pop']])\n",
    "print(range(1,10,2))"
   ]
  },
  {
   "cell_type": "markdown",
   "metadata": {},
   "source": [
    "# 그룹화한 데이터의 평균 구하기"
   ]
  },
  {
   "cell_type": "code",
   "execution_count": 86,
   "metadata": {},
   "outputs": [
    {
     "name": "stdout",
     "output_type": "stream",
     "text": [
      "year\n",
      "1952    49.057620\n",
      "1957    51.507401\n",
      "1962    53.609249\n",
      "1967    55.678290\n",
      "1972    57.647386\n",
      "1977    59.570157\n",
      "1982    61.533197\n",
      "1987    63.212613\n",
      "1992    64.160338\n",
      "1997    65.014676\n",
      "2002    65.694923\n",
      "2007    67.007423\n",
      "Name: lifeExp, dtype: float64\n",
      "<class 'pandas.core.groupby.generic.DataFrameGroupBy'>\n",
      "<pandas.core.groupby.generic.DataFrameGroupBy object at 0x00000153EBCF4AD0>\n",
      "<pandas.core.groupby.generic.SeriesGroupBy object at 0x00000153EB9E2C90>\n",
      "year\n",
      "1952    49.057620\n",
      "1957    51.507401\n",
      "1962    53.609249\n",
      "1967    55.678290\n",
      "1972    57.647386\n",
      "1977    59.570157\n",
      "1982    61.533197\n",
      "1987    63.212613\n",
      "1992    64.160338\n",
      "1997    65.014676\n",
      "2002    65.694923\n",
      "2007    67.007423\n",
      "Name: lifeExp, dtype: float64\n",
      "____+_++_________\n",
      "                  lifeExp     gdpPercap\n",
      "year continent                         \n",
      "1952 Africa     39.135500   1252.572466\n",
      "     Americas   53.279840   4079.062552\n",
      "     Asia       46.314394   5195.484004\n",
      "     Europe     64.408500   5661.057435\n",
      "     Oceania    69.255000  10298.085650\n",
      "1957 Africa     41.266346   1385.236062\n",
      "     Americas   55.960280   4616.043733\n",
      "     Asia       49.318544   5787.732940\n",
      "     Europe     66.703067   6963.012816\n",
      "     Oceania    70.295000  11598.522455\n",
      "1962 Africa     43.319442   1598.078825\n",
      "     Americas   58.398760   4901.541870\n",
      "     Asia       51.563223   5729.369625\n",
      "     Europe     68.539233   8365.486814\n",
      "     Oceania    71.085000  12696.452430\n",
      "1967 Africa     45.334538   2050.363801\n",
      "     Americas   60.410920   5668.253496\n",
      "     Asia       54.663640   5971.173374\n",
      "     Europe     69.737600  10143.823757\n",
      "     Oceania    71.310000  14495.021790\n",
      "1972 Africa     47.450942   2339.615674\n",
      "     Americas   62.394920   6491.334139\n",
      "     Asia       57.319269   8187.468699\n",
      "     Europe     70.775033  12479.575246\n",
      "     Oceania    71.910000  16417.333380\n",
      "1977 Africa     49.580423   2585.938508\n",
      "     Americas   64.391560   7352.007126\n",
      "     Asia       59.610556   7791.314020\n",
      "     Europe     71.937767  14283.979110\n",
      "     Oceania    72.855000  17283.957605\n",
      "1982 Africa     51.592865   2481.592960\n",
      "     Americas   66.228840   7506.737088\n",
      "     Asia       62.617939   7434.135157\n",
      "     Europe     72.806400  15617.896551\n",
      "     Oceania    74.290000  18554.709840\n",
      "1987 Africa     53.344788   2282.668991\n",
      "     Americas   68.090720   7793.400261\n",
      "     Asia       64.851182   7608.226508\n",
      "     Europe     73.642167  17214.310727\n",
      "     Oceania    75.320000  20448.040160\n",
      "1992 Africa     53.629577   2281.810333\n",
      "     Americas   69.568360   8044.934406\n",
      "     Asia       66.537212   8639.690248\n",
      "     Europe     74.440100  17061.568084\n",
      "     Oceania    76.945000  20894.045885\n",
      "1997 Africa     53.598269   2378.759555\n",
      "     Americas   71.150480   8889.300863\n",
      "     Asia       68.020515   9834.093295\n",
      "     Europe     75.505167  19076.781802\n",
      "     Oceania    78.190000  24024.175170\n",
      "2002 Africa     53.325231   2599.385159\n",
      "     Americas   72.422040   9287.677107\n",
      "     Asia       69.233879  10174.090397\n",
      "     Europe     76.700600  21711.732422\n",
      "     Oceania    79.740000  26938.778040\n",
      "2007 Africa     54.806038   3089.032605\n",
      "     Americas   73.608120  11003.031625\n",
      "     Asia       70.728485  12473.026870\n",
      "     Europe     77.648600  25054.481636\n",
      "     Oceania    80.719500  29810.188275\n"
     ]
    }
   ],
   "source": [
    "print(df.groupby('year')['lifeExp'].mean())\n",
    "#연도별(열의 한요소), lifeExp(다른 열의요소)의 평균을구하기\n",
    "grouped_year=df.groupby('year')\n",
    "print(type(grouped_year))\n",
    "print(grouped_year)\n",
    "print(grouped_year['lifeExp'])\n",
    "print(grouped_year['lifeExp'].mean())\n",
    "print(\"____+_++_________\")\n",
    "multigrouped_year=df.groupby(['year','continent'])[['lifeExp','gdpPercap']].mean()\n",
    "print(multigrouped_year)\n"
   ]
  },
  {
   "cell_type": "markdown",
   "metadata": {},
   "source": [
    "# 그룹화한 데이터의 개수 세어보기"
   ]
  },
  {
   "cell_type": "code",
   "execution_count": 89,
   "metadata": {},
   "outputs": [
    {
     "name": "stdout",
     "output_type": "stream",
     "text": [
      "continent\n",
      "Africa      52\n",
      "Americas    25\n",
      "Asia        33\n",
      "Europe      30\n",
      "Oceania      2\n",
      "Name: country, dtype: int64\n",
      "year  pop       \n",
      "1952  60011         1\n",
      "      63149         1\n",
      "      120447        1\n",
      "      147962        1\n",
      "      153936        1\n",
      "                   ..\n",
      "2007  190010647     1\n",
      "      223547000     1\n",
      "      301139947     1\n",
      "      1110396331    1\n",
      "      1318683096    1\n",
      "Name: country, Length: 1704, dtype: int64\n"
     ]
    }
   ],
   "source": [
    "print(df.groupby('continent')['country'].nunique())\n",
    "print(df.groupby(['year','pop'])['country'].nunique())"
   ]
  },
  {
   "cell_type": "markdown",
   "metadata": {},
   "source": [
    "# 그래프 만들기"
   ]
  },
  {
   "cell_type": "code",
   "execution_count": 93,
   "metadata": {
    "scrolled": true
   },
   "outputs": [
    {
     "name": "stdout",
     "output_type": "stream",
     "text": [
      "year\n",
      "1952    49.057620\n",
      "1957    51.507401\n",
      "1962    53.609249\n",
      "1967    55.678290\n",
      "1972    57.647386\n",
      "1977    59.570157\n",
      "1982    61.533197\n",
      "1987    63.212613\n",
      "1992    64.160338\n",
      "1997    65.014676\n",
      "2002    65.694923\n",
      "2007    67.007423\n",
      "Name: lifeExp, dtype: float64\n"
     ]
    },
    {
     "data": {
      "image/png": "[encoded data removed]",
      "text/plain": [
       "<Figure size 640x480 with 1 Axes>"
      ]
     },
     "metadata": {},
     "output_type": "display_data"
    }
   ],
   "source": [
    "%matplotlib inline\n",
    "import matplotlib.pyplot as plt\n",
    "global_lifeExp=df.groupby(['year'])['lifeExp'].mean()\n",
    "print(global_lifeExp)\n",
    "global_lifeExp.plot()\n",
    "plt.show()\n"
   ]
  }
 ],
 "metadata": {
  "kernelspec": {
   "display_name": "Python [conda env:base] *",
   "language": "python",
   "name": "conda-base-py"
  },
  "language_info": {
   "codemirror_mode": {
    "name": "ipython",
    "version": 3
   },
   "file_extension": ".py",
   "mimetype": "text/x-python",
   "name": "python",
   "nbconvert_exporter": "python",
   "pygments_lexer": "ipython3",
   "version": "3.13.5"
  }
 },
 "nbformat": 4,
 "nbformat_minor": 4
}
