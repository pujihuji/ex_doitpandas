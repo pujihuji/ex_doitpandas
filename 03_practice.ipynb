{
 "cells": [
  {
   "cell_type": "markdown",
   "metadata": {},
   "source": [
    "# 시리즈 만들기\n",
    "## Series 명령어 앞글자 대문자 주의!\n",
    "### 인덱스를 디폴트값(0,1,2...)가아닌 값으로 설정가능"
   ]
  },
  {
   "cell_type": "code",
   "execution_count": 7,
   "metadata": {},
   "outputs": [
    {
     "name": "stdout",
     "output_type": "stream",
     "text": [
      "0    banana\n",
      "1        42\n",
      "dtype: object\n",
      "0        Wes\n",
      "1    Creator\n",
      "dtype: object\n",
      "person        Wes\n",
      "who       Creator\n",
      "dtype: object\n"
     ]
    }
   ],
   "source": [
    "import pandas as pd\n",
    "ser=pd.Series(['banana',42])\n",
    "print(ser)\n",
    "ser1=pd.Series(['Wes','Creator'])\n",
    "print(ser1)\n",
    "ser2=pd.Series(['Wes','Creator'],index=['person','who'])\n",
    "print(ser2)"
   ]
  },
  {
   "cell_type": "markdown",
   "metadata": {},
   "source": [
    "# 데이터프레임 만들기\n",
    "## pd.'D'ata'F'rame(data={'열이름':['열구성값들']},index=['인덱스값'],columns=['나타낼 열이름 순서교체'])"
   ]
  },
  {
   "cell_type": "code",
   "execution_count": 48,
   "metadata": {},
   "outputs": [
    {
     "name": "stdout",
     "output_type": "stream",
     "text": [
      "   name   occ        born        died age\n",
      "a   ros  chem  1920-07-15  1958-04-16  37\n",
      "b  will  stat  1911-07-16  1937-10-16  61\n",
      "\n",
      "\n",
      "   name  age        born        died\n",
      "a   ros   37  1920-07-15  1958-04-16\n",
      "b  will   61  1911-07-16  1937-10-16\n",
      "name    object\n",
      "age      int64\n",
      "born    object\n",
      "died    object\n",
      "dtype: object\n"
     ]
    }
   ],
   "source": [
    "science=pd.DataFrame(data={'name':['ros','will'],'occ':['chem','stat'],'born':['1920-07-15','1911-07-16'],'died':['1958-04-16','1937-10-16'],\n",
    "                           'age':['37','61']},index=['a','b'])\n",
    "print(science)\n",
    "science=pd.DataFrame(data={'name':['ros','will'],'occ':['chem','stat'],'born':['1920-07-15','1911-07-16'],'died':['1958-04-16','1937-10-16'],\n",
    "                           'age':[37,61]},index=['a','b'],columns=['name','age','born','died'])\n",
    "#이때 occ열은 columns에 할당되지않아 데이터 인덱싱안됨!!! 값이 없음처리\n",
    "print('\\n')\n",
    "print(science)\n",
    "print(science.dtypes)\n"
   ]
  },
  {
   "cell_type": "markdown",
   "metadata": {},
   "source": [
    "# 데이터프레임에서 시리즈 선택하기"
   ]
  },
  {
   "cell_type": "code",
   "execution_count": 16,
   "metadata": {},
   "outputs": [
    {
     "name": "stdout",
     "output_type": "stream",
     "text": [
      "<class 'pandas.core.series.Series'>\n",
      "<class 'pandas.core.series.Series'>\n",
      "name           ros\n",
      "age             37\n",
      "born    1920-07-15\n",
      "died    1958-04-16\n",
      "Name: a, dtype: object\n",
      "name          will\n",
      "age             61\n",
      "born    1911-07-16\n",
      "died    1937-10-16\n",
      "Name: b, dtype: object\n"
     ]
    }
   ],
   "source": [
    "first_row=science.loc['a']\n",
    "print(type(first_row))\n",
    "second_row=science.iloc[1]\n",
    "print(type(second_row))\n",
    "print(first_row)\n",
    "print(second_row)"
   ]
  },
  {
   "cell_type": "markdown",
   "metadata": {},
   "source": [
    "# index, values, keys 사용하기\n",
    "## index=데이터유형(시리즈,데이터프레임)별 인덱스\n",
    "## keys메서드는 시리즈의 인덱스 혹은 데이터프레임의 열이름"
   ]
  },
  {
   "cell_type": "code",
   "execution_count": 30,
   "metadata": {},
   "outputs": [
    {
     "name": "stdout",
     "output_type": "stream",
     "text": [
      "Index(['name', 'age', 'born', 'died'], dtype='object')\n",
      "['ros' '37' '1920-07-15' '1958-04-16']\n",
      "Index(['a', 'b'], dtype='object')\n",
      "[['ros' '37' '1920-07-15' '1958-04-16']\n",
      " ['will' '61' '1911-07-16' '1937-10-16']]\n",
      "______________\n",
      "Index(['name', 'age', 'born', 'died'], dtype='object')\n",
      "Index(['name', 'age', 'born', 'died'], dtype='object')\n",
      "_____________\n",
      "name\n",
      "name\n",
      "a\n",
      "name\n"
     ]
    }
   ],
   "source": [
    "print(first_row.index)\n",
    "print(first_row.values)\n",
    "print(science.index)\n",
    "print(science.values)\n",
    "print('______________')\n",
    "print(first_row.keys())\n",
    "print(science.keys())\n",
    "print('_____________')\n",
    "print(first_row.index[0])\n",
    "print(first_row.keys()[0])\n",
    "print(science.index[0])\n",
    "print(science.keys()[0])\n"
   ]
  },
  {
   "cell_type": "markdown",
   "metadata": {},
   "source": [
    "# 시리즈의 mean, min, max, std 메서드 사용하기"
   ]
  },
  {
   "cell_type": "code",
   "execution_count": 57,
   "metadata": {},
   "outputs": [
    {
     "name": "stdout",
     "output_type": "stream",
     "text": [
      "a    37\n",
      "b    61\n",
      "Name: age, dtype: int64\n",
      "a    37\n",
      "b    61\n",
      "Name: age, dtype: int64\n",
      "int64\n",
      "49.0\n",
      "37\n",
      "61\n",
      "16.97056274847714\n",
      "a     True\n",
      "b    False\n",
      "Name: age, dtype: bool\n"
     ]
    }
   ],
   "source": [
    "ages=science['age']\n",
    "print(ages)\n",
    "\n",
    "# 1. pd.to_numeric()을 사용하여 숫자형으로 변환\n",
    "#    - errors='coerce' 옵션은 숫자가 아닌 값을 NaN으로 바꿉니다.\n",
    "science['age'] = pd.to_numeric(science['age'], errors='coerce')\n",
    "\n",
    "# 2. NaN 값을 처리한 후 정수로 변환\n",
    "#    - NaN은 정수형으로 표현될 수 없으므로, 먼저 NaN을 0과 같은 값으로 채워줍니다.\n",
    "science['age'] = science['age'].fillna(0).astype('int64')\n",
    "\n",
    "# 최종 결과 확인\n",
    "print(science['age'])\n",
    "print(science['age'].dtype)\n",
    "\n",
    "print(ages.mean())\n",
    "print(ages.min())\n",
    "print(ages.max())\n",
    "print(ages.std())\n",
    "print(ages.isin([37]))"
   ]
  },
  {
   "cell_type": "markdown",
   "metadata": {},
   "source": [
    "# 시리즈와 불린 추출 사용하기\n"
   ]
  },
  {
   "cell_type": "code",
   "execution_count": 76,
   "metadata": {},
   "outputs": [
    {
     "name": "stdout",
     "output_type": "stream",
     "text": [
      "b    61\n",
      "Name: age, dtype: int64\n",
      "\n",
      "\n",
      "a    False\n",
      "b     True\n",
      "Name: age, dtype: bool\n",
      "<class 'pandas.core.series.Series'>\n",
      "a     74\n",
      "b    122\n",
      "Name: age, dtype: int64\n",
      "a    1369\n",
      "b    3721\n",
      "Name: age, dtype: int64\n",
      "\n",
      "\n",
      "0    1\n",
      "dtype: int64\n",
      "a   NaN\n",
      "b   NaN\n",
      "0   NaN\n",
      "dtype: float64\n",
      "index 겹치는게 존재하는 경우 +는 겹치는거 연산, 없으면 데이터값 추가\n",
      "a    38.0\n",
      "b     NaN\n",
      "dtype: float64\n",
      "b    61\n",
      "a    37\n",
      "Name: age, dtype: int64\n"
     ]
    }
   ],
   "source": [
    "print(ages[ages>ages.mean()])\n",
    "print('\\n')\n",
    "print(ages>ages.mean())\n",
    "print(type(ages>ages.mean()))\n",
    "\n"
   ]
  },
  {
   "cell_type": "markdown",
   "metadata": {},
   "source": [
    "# 시리즈와 브로드캐스팅\n",
    "## 시리즈(=벡터)의 연산\n",
    "### 'index 겹치는게 존재하는 경우 +는 겹치는거 연산, 없으면 데이터값 추가'"
   ]
  },
  {
   "cell_type": "code",
   "execution_count": 77,
   "metadata": {},
   "outputs": [
    {
     "name": "stdout",
     "output_type": "stream",
     "text": [
      "a     74\n",
      "b    122\n",
      "Name: age, dtype: int64\n",
      "a    1369\n",
      "b    3721\n",
      "Name: age, dtype: int64\n",
      "\n",
      "\n",
      "0    1\n",
      "dtype: int64\n",
      "a   NaN\n",
      "b   NaN\n",
      "0   NaN\n",
      "dtype: float64\n",
      "index 겹치는게 존재하는 경우 +는 겹치는거 연산, 없으면 데이터값 추가\n",
      "a    38.0\n",
      "b     NaN\n",
      "dtype: float64\n",
      "b    61\n",
      "a    37\n",
      "Name: age, dtype: int64\n"
     ]
    }
   ],
   "source": [
    "print(ages+ages)\n",
    "print(ages*ages)\n",
    "print('\\n')\n",
    "adding=pd.Series([1])\n",
    "print(adding)\n",
    "print(ages + adding)\n",
    "print('index 겹치는게 존재하는 경우 +는 겹치는거 연산, 없으면 데이터값 추가')\n",
    "adding=pd.Series([1],index=['a'])\n",
    "print(ages + adding)\n",
    "ab=ages.sort_index(ascending=False)\n",
    "print(ab)"
   ]
  },
  {
   "cell_type": "markdown",
   "metadata": {},
   "source": [
    "# 데이터프레임과 불린 추출"
   ]
  },
  {
   "cell_type": "code",
   "execution_count": 82,
   "metadata": {},
   "outputs": [
    {
     "name": "stdout",
     "output_type": "stream",
     "text": [
      "   name  age        born        died\n",
      "b  will   61  1911-07-16  1937-10-16\n",
      "   name  age        born        died\n",
      "b  will   61  1911-07-16  1937-10-16\n",
      "  name  age        born        died\n",
      "a  ros   37  1920-07-15  1958-04-16\n"
     ]
    }
   ],
   "source": [
    "print(science[science['age']>science['age'].mean()])\n",
    "print(science.loc[[False,True]])\n",
    "print(science.loc[[True,False]])"
   ]
  },
  {
   "cell_type": "markdown",
   "metadata": {},
   "source": [
    "# 데이터프레임과 브로드캐스팅"
   ]
  },
  {
   "cell_type": "code",
   "execution_count": 83,
   "metadata": {},
   "outputs": [
    {
     "name": "stdout",
     "output_type": "stream",
     "text": [
      "       name  age                  born                  died\n",
      "a    rosros   74  1920-07-151920-07-15  1958-04-161958-04-16\n",
      "b  willwill  122  1911-07-161911-07-16  1937-10-161937-10-16\n"
     ]
    }
   ],
   "source": [
    "print(science * 2)"
   ]
  },
  {
   "cell_type": "markdown",
   "metadata": {},
   "source": [
    "# 열의 자료형 바꾸기와 새로운 열 추가하기"
   ]
  },
  {
   "cell_type": "code",
   "execution_count": 99,
   "metadata": {},
   "outputs": [
    {
     "name": "stdout",
     "output_type": "stream",
     "text": [
      "name                 object\n",
      "age         timedelta64[ns]\n",
      "born                 object\n",
      "died                 object\n",
      "born_dt      datetime64[ns]\n",
      "died_dt      datetime64[ns]\n",
      "age_days    timedelta64[ns]\n",
      "dtype: object\n",
      "\n",
      "\n",
      "timedelta64[ns]\n",
      "\n",
      "\n",
      "a   1920-07-15\n",
      "b   1911-07-16\n",
      "Name: born, dtype: datetime64[ns]\n",
      "a   1958-04-16\n",
      "b   1937-10-16\n",
      "Name: died, dtype: datetime64[ns]\n",
      "   name        age        born        died    born_dt    died_dt   age_days\n",
      "a   ros 13789 days  1920-07-15  1958-04-16 1920-07-15 1958-04-16 13789 days\n",
      "b  will  9589 days  1911-07-16  1937-10-16 1911-07-16 1937-10-16  9589 days\n",
      "(2, 7)\n",
      "   name  age        born        died    born_dt    died_dt   age_days\n",
      "a   ros   37  1920-07-15  1958-04-16 1920-07-15 1958-04-16 13789 days\n",
      "b  will   61  1911-07-16  1937-10-16 1911-07-16 1937-10-16  9589 days\n"
     ]
    }
   ],
   "source": [
    "print(science.dtypes)\n",
    "print('\\n')\n",
    "print(science['age'].dtype)\n",
    "print('\\n')\n",
    "born_datetime=pd.to_datetime(science['born'],format='%Y-%m-%d')\n",
    "print(born_datetime)\n",
    "died_datetime=pd.to_datetime(science['died'],format='%Y-%m-%d')\n",
    "print(died_datetime)\n",
    "\n",
    "#새로운열 추가\n",
    "science['born_dt'],science['died_dt']=(born_datetime,died_datetime)\n",
    "print(science)\n",
    "print(science.shape)\n",
    "science['age']=[37,61]\n",
    "science['age_days']=science['died_dt']-science['born_dt']\n",
    "print(science)"
   ]
  },
  {
   "cell_type": "markdown",
   "metadata": {},
   "source": [
    "# 시리즈, 데이터프레임의 데이터 섞어보기"
   ]
  },
  {
   "cell_type": "code",
   "execution_count": 119,
   "metadata": {},
   "outputs": [
    {
     "name": "stdout",
     "output_type": "stream",
     "text": [
      "   name  age        born        died    born_dt    died_dt   age_days\n",
      "0   ros   61  1920-07-15  1958-04-16 1920-07-15 1958-04-16 13789 days\n",
      "1  will   37  1911-07-16  1937-10-16 1911-07-16 1937-10-16  9589 days\n",
      "0    61\n",
      "1    37\n",
      "Name: age, dtype: int64\n"
     ]
    },
    {
     "name": "stderr",
     "output_type": "stream",
     "text": [
      "C:\\Users\\user\\anaconda3\\Lib\\random.py:361: SettingWithCopyWarning: \n",
      "A value is trying to be set on a copy of a slice from a DataFrame\n",
      "\n",
      "See the caveats in the documentation: https://pandas.pydata.org/pandas-docs/stable/user_guide/indexing.html#returning-a-view-versus-a-copy\n",
      "  x[i], x[j] = x[j], x[i]\n",
      "C:\\Users\\user\\anaconda3\\Lib\\random.py:361: SettingWithCopyWarning: \n",
      "A value is trying to be set on a copy of a slice from a DataFrame\n",
      "\n",
      "See the caveats in the documentation: https://pandas.pydata.org/pandas-docs/stable/user_guide/indexing.html#returning-a-view-versus-a-copy\n",
      "  x[i], x[j] = x[j], x[i]\n"
     ]
    }
   ],
   "source": [
    "import random\n",
    "random.seed(11)\n",
    "\n",
    "# 인덱스 a,b 설정한거 변경 (덮어쓰기)\n",
    "science=science.rename(index={'a': 0, 'b': 1})\n",
    "print(science)\n",
    "\n",
    "random.shuffle(science['age'])\n",
    "print(science['age'])"
   ]
  },
  {
   "cell_type": "markdown",
   "metadata": {},
   "source": [
    "# 데이터프레임의 열(Columns) 삭제하기\n",
    "## axis=1 열 기준 삭제 axis=0 행 기준 삭제 !!!"
   ]
  },
  {
   "cell_type": "code",
   "execution_count": 122,
   "metadata": {},
   "outputs": [
    {
     "name": "stdout",
     "output_type": "stream",
     "text": [
      "Index(['name', 'age', 'born', 'died', 'born_dt', 'died_dt', 'age_days'], dtype='object')\n",
      "   name        born        died    born_dt    died_dt   age_days\n",
      "0   ros  1920-07-15  1958-04-16 1920-07-15 1958-04-16 13789 days\n",
      "1  will  1911-07-16  1937-10-16 1911-07-16 1937-10-16  9589 days\n"
     ]
    }
   ],
   "source": [
    "print(science.columns)\n",
    "science_drop=science.drop(['age'],axis=1)\n",
    "print(science_drop)"
   ]
  },
  {
   "cell_type": "markdown",
   "metadata": {},
   "source": [
    "# 피클 형식으로 저장하기"
   ]
  },
  {
   "cell_type": "code",
   "execution_count": 123,
   "metadata": {},
   "outputs": [],
   "source": [
    "#피클이란 바이너리 형태로 직렬화한 오브젝트를 저장 -> 더작은용량\n",
    "#형식 : 파일명(or데이터프레임명).to_pickle('파일경로,파일명')"
   ]
  },
  {
   "cell_type": "markdown",
   "metadata": {},
   "source": [
    "# CSV 저장 및 불러오기 "
   ]
  },
  {
   "cell_type": "code",
   "execution_count": 125,
   "metadata": {},
   "outputs": [],
   "source": [
    "#csv comma / tsv tap(띄어쓰기)\n",
    "\n",
    "#불러오기 형식 : 데이터프레임명 = pd.read_csv('파일경로,파일명')\n",
    "#형식 : 파일명(or데이터프레임명).to_csv('파일경로,파일명' , sep='\\t 등 구분기호설정')\n"
   ]
  },
  {
   "cell_type": "markdown",
   "metadata": {},
   "source": [
    "# 엑셀파일로 저장하기\n",
    "## 데이터 프레임만 저장가능!!!(시리즈는 변환필요)"
   ]
  },
  {
   "cell_type": "code",
   "execution_count": null,
   "metadata": {},
   "outputs": [],
   "source": [
    "# 데이터프레임명 = 변환할시리즈명.to_frame()\n",
    "\n",
    "\n",
    "# pip install xlwt -> xls 파일\n",
    "#  import xlwt\n",
    "#  데이터프레임명.to_excel('경로/엑셀명.xls')\n",
    "\n",
    "\n",
    "# pip install openpyxl -> xlsx 파일\n",
    "#  import openpyxl\n",
    "#  데이터프레임명.to_excel('경로/엑셀명.xlsx')\n",
    "\n"
   ]
  }
 ],
 "metadata": {
  "kernelspec": {
   "display_name": "Python [conda env:base] *",
   "language": "python",
   "name": "conda-base-py"
  },
  "language_info": {
   "codemirror_mode": {
    "name": "ipython",
    "version": 3
   },
   "file_extension": ".py",
   "mimetype": "text/x-python",
   "name": "python",
   "nbconvert_exporter": "python",
   "pygments_lexer": "ipython3",
   "version": "3.13.5"
  }
 },
 "nbformat": 4,
 "nbformat_minor": 4
}
